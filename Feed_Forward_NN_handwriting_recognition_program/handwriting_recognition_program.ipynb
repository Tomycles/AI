{
 "cells": [
  {
   "cell_type": "markdown",
   "metadata": {},
   "source": [
    "# Handwriting Recognition"
   ]
  },
  {
   "cell_type": "markdown",
   "metadata": {},
   "source": [
    "All what follows can be read from: http://neuralnetworksanddeeplearning.com/chap1.html#complete_zero "
   ]
  },
  {
   "cell_type": "markdown",
   "metadata": {},
   "source": [
    "## A brief introduction to neural networks "
   ]
  },
  {
   "cell_type": "markdown",
   "metadata": {},
   "source": [
    "### Perceptrons "
   ]
  },
  {
   "cell_type": "markdown",
   "metadata": {},
   "source": [
    "One of the first artificial neurons were **perceptrons**.\n",
    "\n",
    "They are the most simple type of neurons and they are just functions which take binary **inputs** $x_1, x_2, \\dots$ and return a binary **output** $0$ or $1$. \n",
    "\n",
    "![Perceptron](./Images/perceptron.png)\n",
    "\n",
    "The function which determines how the inputs interact can be written in terms of **weights** which determines the \"importance\" of each variable and a **threshold** which split the return into $0$ or $1$ depending the value of the weighted sum. Analytically, it is expressed as\n",
    "\n",
    "\\begin{eqnarray}\n",
    "  \\mbox{output} & = & \\left\\{ \\begin{array}{ll}\n",
    "      0 & \\mbox{if } \\sum_j w_j x_j \\leq \\mbox{ threshold} \\\\\n",
    "      1 & \\mbox{if } \\sum_j w_j x_j > \\mbox{ threshold}\n",
    "      \\end{array} \\right.\n",
    "\\tag{1}\\end{eqnarray}\n",
    "\n",
    "or, equivalently, we can present the result in terms of the interior product $w \\cdot x \\equiv \\sum_{i} w_i x_i$ and the **bias**, $b$, which is nothing but the opposite the threshold\n",
    "\n",
    "\\begin{eqnarray}\n",
    "  \\mbox{output} & = & \\left\\{ \\begin{array}{ll}\n",
    "      0 & \\mbox{if } w \\cdot x + b \\leq 0 \\\\\n",
    "      1 & \\mbox{if } w \\cdot x + b > 0\n",
    "      \\end{array} \\right.\n",
    "\\tag{1}\\end{eqnarray}\n",
    "\n",
    "The greater the bias, the more easy is for a neuron to **fire**.\n",
    "\n",
    "Presented in this way, perceptrons seem very useless objects. However, when combining a great number of them we can make complex computations\n",
    "\n",
    "![Network of perceptrons](./Images/perceptrons_network.png)\n",
    "\n",
    "In this case, each column is called a **layer** of the neural network. Layers which sit deeper in the neural network are capable of perform more complex tasks. \n",
    "\n",
    "Without further specifications, these neural networks are nothing new for computer computations. The new behaviour comes when introducing **learning algorithms** which set the value of the weights and bias for us to solve problems. \n"
   ]
  },
  {
   "cell_type": "markdown",
   "metadata": {},
   "source": [
    "### Sigmoid neurons "
   ]
  },
  {
   "cell_type": "markdown",
   "metadata": {},
   "source": [
    "If our task is to make that our neural network learns, then it would be more convenient to have something which, after a smooth change in the weights, it produces a smooth change in the output. This is clearly motivated for the fact that if we know that we are \"close\" to a particular result, we can perform small changes in the parameters to get closer and closer to the right result without producing undesireable jumps! Obviously this can not be achieved by perceptros, in which a small change in some $w_i$ could make the output jump from 0 to 1. What we need are **sigmoid neurons**.\n",
    "\n",
    "Sigmoid neurons are very similar to perceptrons yet instead of returning $0$ or $1$, they can return any value between them. This is achieved by introducing a **sigmoid function** or **logistic function** before the output \n",
    "\\begin{equation}\n",
    "\\text{output} = \\sigma\\left(w \\cdot x + b\\right) \\quad , \\quad \\sigma(z) \\equiv \\frac{1}{1 + e^{-z}}\n",
    "\\end{equation}\n",
    "The specific form of the function is not importat but its smooth (differentiable) behaviour, i.e. a differential change in $w$ and $b$ generates a diferential change in the output carried by $\\partial_{w} \\sigma$ and $\\partial_b \\sigma$ respectively. An important characteristic is that for $z \\rightarrow \\pm \\infty$ it returns $1$ or $0$, respectively. Indeed, the sigmoid functions is just a particular case of what it is called **activation function** which in general has the job of modifying the output in a smooth way."
   ]
  },
  {
   "cell_type": "markdown",
   "metadata": {},
   "source": [
    "### Architecture of neural networks"
   ]
  },
  {
   "cell_type": "markdown",
   "metadata": {},
   "source": [
    "Independetly of the type of neurons, we will consider following architecture for our network\n",
    "\n",
    "![Network](./Images/neural_network.png)\n",
    "\n",
    "The inputs and outputs themselves can be interpreted as **input layer** and **output layer**, respectively. Any layer between them is called **hidden layer**. These networks are called **MLP** which come from \"multilayer perceptrons\" even though the neurons inside could be other than perceptrons! In this particular architecture we are considering that the output of one layer is the input of the next one, these are called **feedforward** networks which means that there is no loops on it."
   ]
  },
  {
   "cell_type": "markdown",
   "metadata": {},
   "source": [
    "## How to recognize individual digits"
   ]
  },
  {
   "cell_type": "markdown",
   "metadata": {},
   "source": [
    "We will concentrate in design a network which could recognize individual digits. To do so, we consider the following network\n",
    "\n",
    "![digit recognition network](./Images/digit_recognition_network.png)\n",
    "\n",
    "Since we will deal with images of $28 \\times 28 = 784$ in grey-scale, we consider a $784$-dimensional imput layer in which each neuron contains one pixel which takes any value between $0$ and $1$ representing a value in the grey-scale. The output layer contains $10$ output neurons corresponding to the $10$ possible numbers. The maximum value between them will correspond to the correct digit. For instace, if the maximum number sits in the $6$th neuron, then we interpret that the network identified the input as the number $6$.\n",
    "\n",
    "The previous architecture must be followed by a learning algorithm which teachs the machine how to solve the problem. The first ingredient to do so is a **training data** from which our algorithm will learn and a **test data** in which we are going to test our program. In this example we will use the [MINST data](http://yann.lecun.com/exdb/mnist/) set, which contains tens of thousands of scanned images of handwritten digits, together with their correct classifications. The following image is an example of the numbers in the set\n",
    "![example MINST](./Images/example_MINST.png)\n",
    "\n",
    "The data set is split into 60,000 images which serve as training data and 10.000 which are used as test data.\n",
    "\n",
    "We will denote the $784$-dimensional training input as $x$, and the correct answer as the $10$-dimensional vector $y(x)$. We want to find appropiate wights and biases such that the output of our algorith, $a(w,b,x)$, approximates the real value $y$ in the best possible way. To quantify this, we introduce the **quadratic cost or loss function**\n",
    "\n",
    "\\begin{eqnarray}  C(w,b) \\equiv\n",
    "  \\frac{1}{2n} \\sum_x \\| y(x) - a(w,b,x)\\|^2.\n",
    "\\tag{6}\\end{eqnarray}\n",
    "\n",
    "which depends on the weights, biases and $n$, the total number of training inputs. The aim of our training algorithm is to minimize $C$ in terms of $w$ and $b$. We do this using a method called **gradient descent**. \n",
    "\n",
    "To see this method we consider a generic function $C(v)$ depending on some variables encoded in the vector $v$. A small variation in the variables will produce a small variation in the loss function carried by the gradient of the function in terms of $v$, i.e.\n",
    "\\begin{equation}\n",
    "v \\rightarrow v' = v + \\Delta v \\quad \\Rightarrow \\quad C \\rightarrow C'(v')= C(v) + \\Delta C(v) \\quad , \\quad \\Delta C \\eqsim \\nabla_{v} C \\cdot \\Delta v\n",
    "\\end{equation}\n",
    "If we want to minimize $C$, we can propose \n",
    "\\begin{equation}\n",
    "\\Delta v = - \\eta \\nabla_v C\n",
    "\\end{equation}\n",
    "where $\\eta$ is a small, positive, parameter called the **learning rate**. This guaranties that $C$ always decrease upon this infinitesimal variation! Repeating this procedure, changing $v$ step by step, we expect to eventually reach a global minimum. The learning rate has to be taken small enough so that the variation equation remains a good aproximation but not too small in order not to make the algorithm too slow.\n",
    "\n",
    "Going now to our particular case, we have $v = w + b$ and so we will move by the following increments\n",
    "\\begin{equation}\\label{wbprime}\n",
    "w_i' = w_i - \\eta \\frac{\\partial C}{\\partial w_i} \\quad , \\quad b_i' = b_i - \\eta \\frac{\\partial C}{\\partial b_i} \n",
    "\\end{equation}\n",
    "\n",
    "Even though this approach would do, when the trainning set is big, the learning procedure would take too much time to be usefull. This is because, if we look back at the loss function, it's easy to see that it is nothing but the average over all the training inputs $C = \\frac{1}{n} \\sum_{x} C_x$. Then, for every improvement of $w$ and $b$ we have to compute $\\nabla C_x$ for each $x$ and then average it. For a great number of training inputs this procedure will be extremelly slow. A way to avoid this is by using a modification of the algorithm caled **stochastic gradient descent**. In this case, instead of computing $\\nabla C_x$ for all $x$, the idea is to pick up some $m<< n$ random inputs among all the training inputs, let's say $X_1, \\dots, X_m$ which is called a **mini-batch**. Provided we pick $m$ big enough, we expect that\n",
    "\\begin{eqnarray}\n",
    "  \\nabla C \\approx \\frac{1}{m} \\sum_{j=1}^m \\nabla C_{X_{j}},\n",
    "\\end{eqnarray}\n",
    "\n",
    "In practice, the idea is to pick a random mini-batch, compute $\\frac{\\partial C}{\\partial w_i}$ and $\\frac{\\partial C}{\\partial b_i}$, and use them to train $w$ and $b$. Then, we pick up another random mini-batch and we repeat the process. This must be carried until exhausting all $n$ training inputs. After this, we say that we completed an **epoch of training** and we can begin a new one. "
   ]
  },
  {
   "cell_type": "code",
   "execution_count": 3,
   "metadata": {
    "colab": {
     "base_uri": "https://localhost:8080/",
     "height": 219
    },
    "colab_type": "code",
    "id": "qiz1o-m2zIbK",
    "outputId": "4013f9a0-c36f-401b-8c07-0b95790377c0"
   },
   "outputs": [
    {
     "data": {
      "text/plain": [
       "b'/home/guybrush/Tomaco/Hobbies/Computacion_e_Informatica/AI/Deep learning/handwriting_recognition_program'"
      ]
     },
     "execution_count": 3,
     "metadata": {},
     "output_type": "execute_result"
    }
   ],
   "source": [
    "## Libraries\n",
    "import random\n",
    "import numpy as np\n",
    "import matplotlib.pyplot as plt\n",
    "import os\n",
    "\n",
    "#get the current directory\n",
    "\n",
    "os.getcwdb()"
   ]
  },
  {
   "cell_type": "code",
   "execution_count": 32,
   "metadata": {
    "colab": {},
    "colab_type": "code",
    "id": "jnr_l2Z3zKfi"
   },
   "outputs": [],
   "source": [
    "\"\"\"\n",
    "A module to implement the stochastic gradient descent learning\n",
    "algorithm for a feedforward neural network.\n",
    "Gradients are calculated using backpropagation.\n",
    "\"\"\"\n",
    "\n",
    "class Network(object):\n",
    "\n",
    "    def __init__(self, sizes):\n",
    "        \n",
    "        \"\"\"The list ``sizes`` contains the number of neurons in the\n",
    "        respective layers of the network.  For example, if the list\n",
    "        was [2, 3, 1] then it would be a three-layer network, with the\n",
    "        first layer containing 2 neurons, the second layer 3 neurons,\n",
    "        and the third layer 1 neuron.  The biases and weights for the\n",
    "        network are initialized randomly, using a Gaussian\n",
    "        distribution with mean 0, and variance 1.  Note that the first\n",
    "        layer is assumed to be an input layer, and by convention we\n",
    "        won't set any biases for those neurons, since biases are only\n",
    "        ever used in computing the outputs from later layers.\"\"\"\n",
    "        \n",
    "        self.num_layers = len(sizes)\n",
    "        self.sizes = sizes\n",
    "        \n",
    "        # asigns randomly the biases and weights to begin with. \n",
    "        \n",
    "        #biases[i] is a vector containing the biases of the (i+1)-layer.\n",
    "        self.biases = [np.random.randn(y, 1) for y in sizes[1:]] \n",
    "        \n",
    "        # weights[i] is a matrix containing the weights connecting the (i+1)-layer to the (i+2)-layer.\n",
    "        # x is the number of neurons in the actual layer\n",
    "        # y corresponds to the number of neurons in the next layer (outputs of the actual layer)\n",
    "        # so weights[i-1][a-1][b-1] corresponds to a SINGLE random weight connecting the bth NEURON\n",
    "        # of the ith LAYER to the ath NEURON of the next layer\n",
    "        # for instance, weights[0][1][2] is a weight connecting the third NEURON (2) of the first LAYER (0)\n",
    "        # to the second NEURON (1) of the second LAYER (0+1).\n",
    "        self.weights = [np.random.randn(y, x) for x, y in zip(sizes[:-1], sizes[1:])] \n",
    "         \n",
    "    def feedforward(self, a):\n",
    "        \n",
    "        \"\"\"Return the output of the network if ``a`` is input.\"\"\"\n",
    "        \n",
    "        # each one of these iterations compute the input of the next layer using a SIGMOID NEURON. \n",
    "        for b, w in zip(self.biases, self.weights):\n",
    "            a = sigmoid(np.dot(w, a)+b)\n",
    "        return a\n",
    "\n",
    "    def SGD(self, training_data, epochs, mini_batch_size, eta, test_data=None):\n",
    "        \n",
    "        \"\"\"Train the neural network using mini-batch stochastic\n",
    "        gradient descent.  The ``training_data`` is a list of tuples\n",
    "        ``(x, y)`` representing the training inputs and the desired\n",
    "        outputs.  The other non-optional parameters are\n",
    "        self-explanatory.  If ``test_data`` is provided then the\n",
    "        network will be evaluated against the test data after each\n",
    "        epoch, and partial progress printed out.  This is useful for\n",
    "        tracking progress, but slows things down substantially.\"\"\"\n",
    "        \n",
    "        if test_data: \n",
    "            n_test = len(test_data)\n",
    "        n = len(training_data)\n",
    "        for j in range(epochs):\n",
    "            random.shuffle(training_data) \n",
    "            mini_batches = [ training_data[k:k+mini_batch_size] for k in range(0, n, mini_batch_size)] \n",
    "            # this is the important step. update_mini_batch changes the weight and biases of the network. \n",
    "            for mini_batch in mini_batches:\n",
    "                self.update_mini_batch(mini_batch, eta)\n",
    "            if test_data:\n",
    "                print(\"Epoch {0}: {1} / {2}\".format( j, self.evaluate(test_data), n_test))\n",
    "            else:\n",
    "                print(\"Epoch {0} complete\".format(j))\n",
    "\n",
    "    def update_mini_batch(self, mini_batch, eta):\n",
    "        \n",
    "        \"\"\"Update the network's weights and biases by applying\n",
    "        gradient descent using backpropagation to a single mini batch.\n",
    "        The ``mini_batch`` is a list of tuples ``(x, y)``, and ``eta``\n",
    "        is the learning rate.\"\"\"\n",
    "        \n",
    "        nabla_b = [np.zeros(b.shape) for b in self.biases]\n",
    "        nabla_w = [np.zeros(w.shape) for w in self.weights]\n",
    "        \n",
    "        for x, y in mini_batch:\n",
    "            \n",
    "            # Invokes the backpropagation algorithm, which computs the gradient of the cost function \n",
    "            # for (x,y) data.\n",
    "            delta_nabla_b, delta_nabla_w = self.backprop(x, y)\n",
    "            # sum the gradient of the cost function computed from (x,y) in mini_batch.\n",
    "            nabla_b = [nb+dnb for nb, dnb in zip(nabla_b, delta_nabla_b)]\n",
    "            nabla_w = [nw+dnw for nw, dnw in zip(nabla_w, delta_nabla_w)] \n",
    "            # At the end of the for loop, we have the sumatory of the gradient of the cost function \n",
    "            # on every element in the mini_batch.        \n",
    "        # update the weights and biases\n",
    "        self.weights = [w-(eta/len(mini_batch))*nw for w, nw in zip(self.weights, nabla_w)]\n",
    "        self.biases = [b-(eta/len(mini_batch))*nb for b, nb in zip(self.biases, nabla_b)] \n",
    "        \n",
    "    def backprop(self, x, y):\n",
    "        \n",
    "        \"\"\"Return a tuple ``(nabla_b, nabla_w)`` representing the\n",
    "        gradient for the cost function C_x.  ``nabla_b`` and\n",
    "        ``nabla_w`` are layer-by-layer lists of numpy arrays, similar\n",
    "        to ``self.biases`` and ``self.weights``.\"\"\"\n",
    "        \n",
    "        nabla_b = [np.zeros(b.shape) for b in self.biases]\n",
    "        nabla_w = [np.zeros(w.shape) for w in self.weights]\n",
    "        \n",
    "        # feedforward\n",
    "        \n",
    "        activation = x # the input\n",
    "        activations = [x] # list to store all the activations, layer by layer\n",
    "        zs = [] # list to store all the z vectors, layer by layer\n",
    "        \n",
    "        # This is just the feedforward function defined before but now storing the intermediate values, as z.  \n",
    "        for b, w in zip(self.biases, self.weights):\n",
    "            \n",
    "            z = np.dot(w, activation)+b\n",
    "            zs.append(z)\n",
    "            \n",
    "            # updates the activation, this is just the output of the current layer.\n",
    "            activation = sigmoid(z)\n",
    "            activations.append(activation)\n",
    "            \n",
    "        # backward pass\n",
    "        \n",
    "        delta = self.cost_derivative(activations[-1], y)*sigmoid_prime(zs[-1])\n",
    "        nabla_b[-1] = delta\n",
    "        nabla_w[-1] = np.dot(delta, activations[-2].transpose())\n",
    "        \n",
    "        # Pay attention to the variable l in the loop below.\n",
    "        # l = 1 means the last layer of neurons, l = 2 is the\n",
    "        # second-last layer, and so on.\n",
    "        \n",
    "        for l in range(2, self.num_layers):\n",
    "            z = zs[-l]\n",
    "            sp = sigmoid_prime(z)\n",
    "            delta = np.dot(self.weights[-l+1].transpose(), delta) * sp\n",
    "            nabla_b[-l] = delta\n",
    "            nabla_w[-l] = np.dot(delta, activations[-l-1].transpose())\n",
    "        return (nabla_b, nabla_w)\n",
    "\n",
    "    def evaluate(self, test_data):\n",
    "        \n",
    "        \"\"\"Return the number of test inputs for which the neural\n",
    "        network outputs the correct result. Note that the neural\n",
    "        network's output is assumed to be the index of whichever\n",
    "        neuron in the final layer has the highest activation.\"\"\"\n",
    "        \n",
    "        test_results = [(np.argmax(self.feedforward(x)), y) for (x, y) in test_data]\n",
    "        return sum(int(x == y) for (x, y) in test_results)\n",
    "\n",
    "    def cost_derivative(self, output_activations, y):\n",
    "        \n",
    "        \"\"\"Return the vector of partial derivatives \\partial C_x /\n",
    "        \\partial a for the output activations.\"\"\"\n",
    "        \n",
    "        return (output_activations-y)\n",
    "\n",
    "#### Miscellaneous functions\n",
    "\n",
    "def sigmoid(z):\n",
    "\n",
    "    \"\"\"The sigmoid function.\"\"\"\n",
    "    \n",
    "    return 1.0/(1.0+np.exp(-z))\n",
    "\n",
    "def sigmoid_prime(z):\n",
    "    \n",
    "    \"\"\"Derivative of the sigmoid function.\"\"\"\n",
    "    \n",
    "    return sigmoid(z)*(1-sigmoid(z))"
   ]
  },
  {
   "cell_type": "code",
   "execution_count": 37,
   "metadata": {
    "colab": {},
    "colab_type": "code",
    "id": "bjeDRg41AbMI"
   },
   "outputs": [],
   "source": [
    "\"\"\"\n",
    "A library to load the MNIST image data.  For details of the data\n",
    "structures that are returned, see the doc strings for ``load_data``\n",
    "and ``load_data_wrapper``.  In practice, ``load_data_wrapper`` is the\n",
    "function usually called by our neural network code.\n",
    "\"\"\"\n",
    "\n",
    "#### Libraries\n",
    "\n",
    "# Standard library\n",
    "import _pickle as cPickle\n",
    "import gzip\n",
    "\n",
    "# Third-party libraries\n",
    "\n",
    "import numpy as np\n",
    "\n",
    "def load_data():\n",
    "    \n",
    "    \"\"\"Return the MNIST data as a tuple containing the training data,\n",
    "    the validation data, and the test data.\n",
    "\n",
    "    The ``training_data`` is returned as a tuple with two entries.\n",
    "    The first entry contains the actual training images.  This is a\n",
    "    numpy ndarray with 50,000 entries.  Each entry is, in turn, a\n",
    "    numpy ndarray with 784 values, representing the 28 * 28 = 784\n",
    "    pixels in a single MNIST image.\n",
    "\n",
    "    The second entry in the ``training_data`` tuple is a numpy ndarray\n",
    "    containing 50,000 entries.  Those entries are just the digit\n",
    "    values (0...9) for the corresponding images contained in the first\n",
    "    entry of the tuple.\n",
    "\n",
    "    The ``validation_data`` and ``test_data`` are similar, except\n",
    "    each contains only 10,000 images.\n",
    "\n",
    "    This is a nice data format, but for use in neural networks it's\n",
    "    helpful to modify the format of the ``training_data`` a little.\n",
    "    That's done in the wrapper function ``load_data_wrapper()``, see\n",
    "    below.\n",
    "    \"\"\"\n",
    "    f = gzip.open('./MNIST-files.pkl.gz', 'rb')\n",
    "    training_data, validation_data, test_data = cPickle.load(f,encoding='latin1')\n",
    "    f.close()\n",
    "    return (training_data, validation_data, test_data)\n",
    "\n",
    "def load_data_wrapper():\n",
    "    \n",
    "    \"\"\"Return a tuple containing ``(training_data, validation_data,\n",
    "    test_data)``. Based on ``load_data``, but the format is more\n",
    "    convenient for use in our implementation of neural networks.\n",
    "\n",
    "    In particular, ``training_data`` is a list containing 50,000\n",
    "    2-tuples ``(x, y)``.  ``x`` is a 784-dimensional numpy.ndarray\n",
    "    containing the input image.  ``y`` is a 10-dimensional\n",
    "    numpy.ndarray representing the unit vector corresponding to the\n",
    "    correct digit for ``x``.\n",
    "\n",
    "    ``validation_data`` and ``test_data`` are lists containing 10,000\n",
    "    2-tuples ``(x, y)``.  In each case, ``x`` is a 784-dimensional\n",
    "    numpy.ndarry containing the input image, and ``y`` is the\n",
    "    corresponding classification, i.e., the digit values (integers)\n",
    "    corresponding to ``x``.\n",
    "\n",
    "    Obviously, this means we're using slightly different formats for\n",
    "    the training data and the validation / test data.  These formats\n",
    "    turn out to be the most convenient for use in our neural network\n",
    "    code.\"\"\"\n",
    "    \n",
    "    tr_d, va_d, te_d = load_data()\n",
    "    training_inputs = [np.reshape(x, (784, 1)) for x in tr_d[0]]\n",
    "    training_results = [vectorized_result(y) for y in tr_d[1]]\n",
    "    training_data = [(tri,trr) for tri, trr in zip(training_inputs, training_results)]\n",
    "    validation_inputs = [np.reshape(x, (784, 1)) for x in va_d[0]]\n",
    "    validation_data = [(vai,vad) for vai, vad in zip(validation_inputs, va_d[1])]\n",
    "    test_inputs = [np.reshape(x, (784, 1)) for x in te_d[0]]\n",
    "    test_data = [(tei,ted) for tei, ted in zip(test_inputs, te_d[1])]\n",
    "    return (training_data, validation_data, test_data)\n",
    "\n",
    "def vectorized_result(j):\n",
    "    \n",
    "    \"\"\"Return a 10-dimensional unit vector with a 1.0 in the jth\n",
    "    position and zeroes elsewhere.  This is used to convert a digit\n",
    "    (0...9) into a corresponding desired output from the neural\n",
    "    network.\"\"\"\n",
    "    \n",
    "    e = np.zeros((10, 1))\n",
    "    e[j] = 1.0\n",
    "    return e"
   ]
  },
  {
   "cell_type": "code",
   "execution_count": 34,
   "metadata": {},
   "outputs": [],
   "source": [
    "# load the data in the wrapped-convenient way\n",
    "\n",
    "training_data, validation_data, test_data = load_data_wrapper()"
   ]
  },
  {
   "cell_type": "code",
   "execution_count": 48,
   "metadata": {
    "colab": {
     "base_uri": "https://localhost:8080/",
     "height": 34
    },
    "colab_type": "code",
    "id": "u5NElI3nzU_s",
    "outputId": "05dda031-ab82-4d0c-d79a-baef796631d6"
   },
   "outputs": [],
   "source": [
    "# create the neural network\n",
    "\n",
    "net= Network([784,30,10])"
   ]
  },
  {
   "cell_type": "code",
   "execution_count": 49,
   "metadata": {},
   "outputs": [
    {
     "name": "stdout",
     "output_type": "stream",
     "text": [
      "Epoch 0: 9048 / 10000\n",
      "Epoch 1: 9207 / 10000\n",
      "Epoch 2: 9293 / 10000\n",
      "Epoch 3: 9356 / 10000\n",
      "Epoch 4: 9358 / 10000\n",
      "Epoch 5: 9425 / 10000\n",
      "Epoch 6: 9412 / 10000\n",
      "Epoch 7: 9423 / 10000\n",
      "Epoch 8: 9408 / 10000\n",
      "Epoch 9: 9435 / 10000\n",
      "Epoch 10: 9484 / 10000\n",
      "Epoch 11: 9486 / 10000\n",
      "Epoch 12: 9493 / 10000\n",
      "Epoch 13: 9499 / 10000\n",
      "Epoch 14: 9497 / 10000\n",
      "Epoch 15: 9514 / 10000\n",
      "Epoch 16: 9485 / 10000\n",
      "Epoch 17: 9457 / 10000\n",
      "Epoch 18: 9500 / 10000\n",
      "Epoch 19: 9511 / 10000\n",
      "Epoch 20: 9505 / 10000\n",
      "Epoch 21: 9496 / 10000\n",
      "Epoch 22: 9516 / 10000\n",
      "Epoch 23: 9496 / 10000\n",
      "Epoch 24: 9541 / 10000\n",
      "Epoch 25: 9519 / 10000\n",
      "Epoch 26: 9510 / 10000\n",
      "Epoch 27: 9508 / 10000\n",
      "Epoch 28: 9513 / 10000\n",
      "Epoch 29: 9509 / 10000\n"
     ]
    }
   ],
   "source": [
    "# Train the NN\n",
    "net.SGD(training_data, 30, 10, 3, test_data=test_data)"
   ]
  },
  {
   "cell_type": "code",
   "execution_count": 73,
   "metadata": {},
   "outputs": [],
   "source": [
    "T= load_data()[0]\n",
    "Tw= load_data_wrapper()[0]\n",
    "\n",
    "def result_with_image(image_pos, show=True):\n",
    "    \n",
    "    \"\"\"\n",
    "    Return a tuple (X,Y) where X is the predicted number and Y is the real value.\n",
    "    Then, it shows the number as a 28x28-pixel image.\n",
    "    \"\"\"\n",
    "    \n",
    "    pix=28\n",
    "    I=np.zeros((pix,pix))\n",
    "    \n",
    "    # draws the number into a 28x28-pixel screen.\n",
    "    for i in range(pix):\n",
    "        fila=T[0][image_pos][pix*i:pix*(i+1)]\n",
    "        I[i]= fila\n",
    "        \n",
    "    # the previous foor loop draws the numbers in white over a black background. This lines reverse those colors.\n",
    "    InverseI= -I + np.array([[1]*pix]*pix)\n",
    "    if show: plt.imshow(InverseI,cmap=\"gray\")\n",
    "    \n",
    "    # Real number\n",
    "    Y=T[1][image_pos] \n",
    "    \n",
    "    # Builds the predicted number\n",
    "    vector_result = net.feedforward(Tw[image_pos][0])\n",
    "    X=np.where(vector_result == max(vector_result))[0][0] \n",
    "    \n",
    "    return([X,Y])"
   ]
  },
  {
   "cell_type": "code",
   "execution_count": 78,
   "metadata": {},
   "outputs": [
    {
     "data": {
      "text/plain": [
       "[3, 3]"
      ]
     },
     "execution_count": 78,
     "metadata": {},
     "output_type": "execute_result"
    },
    {
     "data": {
      "image/png": "[encoded data removed]",
      "text/plain": [
       "<Figure size 432x288 with 1 Axes>"
      ]
     },
     "metadata": {
      "needs_background": "light"
     },
     "output_type": "display_data"
    }
   ],
   "source": [
    "result_with_image(356)"
   ]
  },
  {
   "cell_type": "code",
   "execution_count": 72,
   "metadata": {},
   "outputs": [
    {
     "name": "stdout",
     "output_type": "stream",
     "text": [
      "48397 96.794\n"
     ]
    }
   ],
   "source": [
    "total = 50000\n",
    "goods = 50000\n",
    "for i in range(total):\n",
    "    A=result_with_image(i,False)\n",
    "    if A[0] != A[1]: goods-=1\n",
    "percentage = 100*goods/total\n",
    "print(goods,percentage)"
   ]
  },
  {
   "cell_type": "code",
   "execution_count": 9,
   "metadata": {
    "colab": {},
    "colab_type": "code",
    "id": "br4d7-5t5xq_"
   },
   "outputs": [],
   "source": [
    "\n",
    "\"\"\"\n",
    "Converts and image to 1 and 0s\n",
    "\"\"\"\n",
    "\n",
    "from PIL import Image\n",
    "from scipy.ndimage import zoom\n"
   ]
  },
  {
   "cell_type": "code",
   "execution_count": 139,
   "metadata": {},
   "outputs": [
    {
     "data": {
      "image/png": "[encoded data removed]",
      "text/plain": [
       "<Figure size 432x288 with 1 Axes>"
      ]
     },
     "metadata": {
      "needs_background": "light"
     },
     "output_type": "display_data"
    }
   ],
   "source": [
    "\n",
    "srcImage = Image.open(\"Einstein_numbers_1_rescaled.png\") # Opens the image.\n",
    "plt.imshow(arrayImage,cmap=\"gray\") # Shows the image.\n",
    "grayImage = srcImage.convert('L') # Converts it to gray scales.\n",
    "\n",
    "# Transforms the image in numbers inside a matrix.\n",
    "arrayImage = np.array(grayImage)\n",
    "\n",
    "# Set the dimensions to 28x28 and normalizes to get a 0 to 1 scale diving with the maximum.\n",
    "arrayImage = zoom(arrayImage, 28/28)/arrayImage.max()\n",
    "\n",
    "# The append function transforms the 28x28 matrix into a single 784 array.\n",
    "# The matrix function changes the object to a (1,784) matrix.\n",
    "# The transpose matrix gives a (784,1) object,\n",
    "arrayImage_list = np.transpose(np.matrix(np.append(arrayImage[0],arrayImage[1:]))) \n",
    "\n",
    "# rounds the number of decimals of the numbers\n",
    "#arrayImage_list = np.round(arrayImage_list,decimals=5)"
   ]
  },
  {
   "cell_type": "code",
   "execution_count": 140,
   "metadata": {},
   "outputs": [
    {
     "data": {
      "text/plain": [
       "<matplotlib.image.AxesImage at 0x7ff4082a6110>"
      ]
     },
     "execution_count": 140,
     "metadata": {},
     "output_type": "execute_result"
    },
    {
     "data": {
      "image/png": "[encoded data removed]",
      "text/plain": [
       "<Figure size 432x288 with 1 Axes>"
      ]
     },
     "metadata": {
      "needs_background": "light"
     },
     "output_type": "display_data"
    }
   ],
   "source": [
    "pix=28\n",
    "I=np.zeros((pix,pix))\n",
    "\n",
    "# draws the number into a 28x28-pixel screen.\n",
    "for i in range(pix):\n",
    "    fila=arrayImage_list[pix*i:pix*(i+1)][0]\n",
    "    I[i]= fila\n",
    "\n",
    "# the previous foor loop draws the numbers in white over a black background. This lines reverse those colors.\n",
    "InverseI= -I + np.array([[1]*pix]*pix)\n",
    "plt.imshow(InverseI,cmap=\"gray\")"
   ]
  },
  {
   "cell_type": "code",
   "execution_count": 128,
   "metadata": {},
   "outputs": [
    {
     "name": "stdout",
     "output_type": "stream",
     "text": [
      "[[3.56043029e-04]\n",
      " [1.41035621e-08]\n",
      " [3.47416730e-12]\n",
      " [7.10543861e-01]\n",
      " [1.03606239e-04]\n",
      " [7.93392157e-01]\n",
      " [4.39612880e-11]\n",
      " [6.23674013e-03]\n",
      " [6.35322318e-08]\n",
      " [3.55388736e-05]]\n",
      "5\n"
     ]
    },
    {
     "data": {
      "image/png": "[encoded data removed]",
      "text/plain": [
       "<Figure size 432x288 with 1 Axes>"
      ]
     },
     "metadata": {
      "needs_background": "light"
     },
     "output_type": "display_data"
    }
   ],
   "source": [
    "plt.imshow(arrayImage,cmap=\"gray\")\n",
    "predicted_result = net.feedforward(arrayImage_list)\n",
    "print(predicted_result)\n",
    "predicted_result=np.where(predicted_result == max(predicted_result))[0][0]\n",
    "print(predicted_result)"
   ]
  },
  {
   "cell_type": "code",
   "execution_count": 117,
   "metadata": {},
   "outputs": [
    {
     "ename": "NameError",
     "evalue": "name 'array' is not defined",
     "output_type": "error",
     "traceback": [
      "\u001b[0;31m---------------------------------------------------------------------------\u001b[0m",
      "\u001b[0;31mNameError\u001b[0m                                 Traceback (most recent call last)",
      "\u001b[0;32m<ipython-input-117-614afdc8fd1b>\u001b[0m in \u001b[0;36m<module>\u001b[0;34m\u001b[0m\n\u001b[0;32m----> 1\u001b[0;31m \u001b[0mwrapped_array\u001b[0m \u001b[0;34m=\u001b[0m \u001b[0;34m[\u001b[0m\u001b[0mnp\u001b[0m\u001b[0;34m.\u001b[0m\u001b[0mreshape\u001b[0m\u001b[0;34m(\u001b[0m\u001b[0mx\u001b[0m\u001b[0;34m,\u001b[0m \u001b[0;34m(\u001b[0m\u001b[0;36m784\u001b[0m\u001b[0;34m,\u001b[0m \u001b[0;36m1\u001b[0m\u001b[0;34m)\u001b[0m\u001b[0;34m)\u001b[0m \u001b[0;32mfor\u001b[0m \u001b[0mx\u001b[0m \u001b[0;32min\u001b[0m \u001b[0marray\u001b[0m\u001b[0;34m]\u001b[0m\u001b[0;34m\u001b[0m\u001b[0;34m\u001b[0m\u001b[0m\n\u001b[0m\u001b[1;32m      2\u001b[0m \u001b[0mwrapped_array\u001b[0m\u001b[0;34m\u001b[0m\u001b[0;34m\u001b[0m\u001b[0m\n",
      "\u001b[0;31mNameError\u001b[0m: name 'array' is not defined"
     ]
    }
   ],
   "source": [
    "wrapped_array = [np.reshape(x, (784, 1)) for x in array]\n",
    "wrapped_array"
   ]
  },
  {
   "cell_type": "code",
   "execution_count": 71,
   "metadata": {},
   "outputs": [
    {
     "data": {
      "text/plain": [
       "784"
      ]
     },
     "execution_count": 71,
     "metadata": {},
     "output_type": "execute_result"
    }
   ],
   "source": []
  },
  {
   "cell_type": "code",
   "execution_count": null,
   "metadata": {},
   "outputs": [],
   "source": []
  }
 ],
 "metadata": {
  "colab": {
   "collapsed_sections": [],
   "name": "handwritting-recognition-program.ipynb",
   "provenance": [],
   "version": "0.3.2"
  },
  "kernelspec": {
   "display_name": "Python 3",
   "language": "python",
   "name": "python3"
  },
  "language_info": {
   "codemirror_mode": {
    "name": "ipython",
    "version": 3
   },
   "file_extension": ".py",
   "mimetype": "text/x-python",
   "name": "python",
   "nbconvert_exporter": "python",
   "pygments_lexer": "ipython3",
   "version": "3.8.5"
  }
 },
 "nbformat": 4,
 "nbformat_minor": 1
}
